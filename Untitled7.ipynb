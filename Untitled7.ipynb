{
 "cells": [
  {
   "cell_type": "code",
   "execution_count": 3,
   "metadata": {},
   "outputs": [
    {
     "name": "stdout",
     "output_type": "stream",
     "text": [
      "file is created and data has written\n"
     ]
    }
   ],
   "source": [
    " def createfile(file):\n",
    "        f = open(file,'w')\n",
    "        for i in range(10):\n",
    "            f.write('this is %d line' %i)\n",
    "        print(\"file is created and data has written\")\n",
    "        return\n",
    "createfile('FILE')"
   ]
  },
  {
   "cell_type": "code",
   "execution_count": 4,
   "metadata": {},
   "outputs": [
    {
     "name": "stdout",
     "output_type": "stream",
     "text": [
      " Volume in drive C has no label.\n",
      " Volume Serial Number is 5ED2-B11D\n",
      "\n",
      " Directory of C:\\Users\\sys21\n",
      "\n",
      "11-07-2019  09:39    <DIR>          .\n",
      "11-07-2019  09:39    <DIR>          ..\n",
      "09-07-2019  09:18    <DIR>          .anaconda\n",
      "04-07-2019  16:26             1,626 .bash_history\n",
      "11-07-2019  09:14    <DIR>          .conda\n",
      "11-07-2019  09:14                43 .condarc\n",
      "11-07-2019  09:15    <DIR>          .ipynb_checkpoints\n",
      "08-07-2019  17:31    <DIR>          .ipython\n",
      "08-07-2019  17:33    <DIR>          .jupyter\n",
      "26-06-2019  03:34    <DIR>          3D Objects\n",
      "08-07-2019  17:27    <DIR>          Anaconda3\n",
      "26-06-2019  03:34    <DIR>          Contacts\n",
      "06-07-2019  17:13    <DIR>          Desktop\n",
      "08-07-2019  17:06    <DIR>          Documents\n",
      "09-07-2019  15:52    <DIR>          Downloads\n",
      "26-06-2019  03:34    <DIR>          Favorites\n",
      "11-07-2019  09:30               140 FILE\n",
      "26-06-2019  03:34    <DIR>          Links\n",
      "26-06-2019  03:34    <DIR>          Music\n",
      "05-07-2019  09:10    <DIR>          OneDrive\n",
      "26-06-2019  03:34    <DIR>          Pictures\n",
      "04-07-2019  10:41    <DIR>          probsolvingprob\n",
      "26-06-2019  03:34    <DIR>          Saved Games\n",
      "26-06-2019  03:34    <DIR>          Searches\n",
      "04-07-2019  14:39    <DIR>          test2\n",
      "08-07-2019  17:31                72 Untitled.ipynb\n",
      "08-07-2019  17:36               555 Untitled1.ipynb\n",
      "09-07-2019  10:42             3,526 Untitled2.ipynb\n",
      "09-07-2019  15:44             4,934 Untitled3.ipynb\n",
      "10-07-2019  10:28             3,310 Untitled4.ipynb\n",
      "10-07-2019  14:38               555 Untitled5.ipynb\n",
      "10-07-2019  15:42             1,821 Untitled6.ipynb\n",
      "11-07-2019  09:39             1,078 Untitled7.ipynb\n",
      "03-07-2019  09:43    <DIR>          Videos\n",
      "              11 File(s)         17,660 bytes\n",
      "              23 Dir(s)  382,589,472,768 bytes free\n"
     ]
    }
   ],
   "source": [
    "ls"
   ]
  },
  {
   "cell_type": "code",
   "execution_count": 8,
   "metadata": {},
   "outputs": [
    {
     "name": "stdout",
     "output_type": "stream",
     "text": [
      " file created data is succesfully written\n"
     ]
    }
   ],
   "source": [
    "def appenddata(file):\n",
    "    f = open(file,'a')\n",
    "    for i in range(10):\n",
    "        f.write(\"this is %d line\\n\" % i)\n",
    "        print(\" file created data is succesfully written\")\n",
    "        return\n",
    "appenddata('file1.txt')"
   ]
  },
  {
   "cell_type": "code",
   "execution_count": 12,
   "metadata": {},
   "outputs": [
    {
     "name": "stdout",
     "output_type": "stream",
     "text": [
      "this is 0 line\n",
      "\n"
     ]
    }
   ],
   "source": [
    "def readfiledata(file):\n",
    "    f = open(file,'r')\n",
    "    if f.mode == 'r':\n",
    "        x = f.read()\n",
    "        print(x)\n",
    "    f.close()\n",
    "    return\n",
    "readfiledata('file1.txt')"
   ]
  },
  {
   "cell_type": "code",
   "execution_count": 14,
   "metadata": {},
   "outputs": [
    {
     "name": "stdout",
     "output_type": "stream",
     "text": [
      "enter namefirstfile\n"
     ]
    }
   ],
   "source": [
    "def fileoperations(file,mode):\n",
    "    with open(file,mode) as f:\n",
    "        if f.mode == 'r':\n",
    "            data = f.read()\n",
    "            print(data)\n",
    "        elif f.mode =='a':\n",
    "            f.write('data to the file')\n",
    "            print('the data is successfully written')\n",
    "        f.close()\n",
    "        return\n",
    "file = input('enter name')\n",
    "     "
   ]
  },
  {
   "cell_type": "code",
   "execution_count": 19,
   "metadata": {},
   "outputs": [
    {
     "name": "stdout",
     "output_type": "stream",
     "text": [
      "enter the wordfirstfile\n"
     ]
    },
    {
     "ename": "FileNotFoundError",
     "evalue": "[Errno 2] No such file or directory: 'firstfile'",
     "output_type": "error",
     "traceback": [
      "\u001b[1;31m---------------------------------------------------------------------------\u001b[0m",
      "\u001b[1;31mFileNotFoundError\u001b[0m                         Traceback (most recent call last)",
      "\u001b[1;32m<ipython-input-19-1b3fc805b086>\u001b[0m in \u001b[0;36m<module>\u001b[1;34m\u001b[0m\n\u001b[0;32m      8\u001b[0m     \u001b[0mfile\u001b[0m \u001b[1;33m=\u001b[0m \u001b[0minput\u001b[0m\u001b[1;33m(\u001b[0m\u001b[1;34m'enter the file name'\u001b[0m\u001b[1;33m)\u001b[0m\u001b[1;33m\u001b[0m\u001b[1;33m\u001b[0m\u001b[0m\n\u001b[0;32m      9\u001b[0m \u001b[0mword\u001b[0m \u001b[1;33m=\u001b[0m \u001b[0minput\u001b[0m\u001b[1;33m(\u001b[0m\u001b[1;34m'enter the word'\u001b[0m\u001b[1;33m)\u001b[0m\u001b[1;33m\u001b[0m\u001b[1;33m\u001b[0m\u001b[0m\n\u001b[1;32m---> 10\u001b[1;33m \u001b[0mwordcount\u001b[0m\u001b[1;33m(\u001b[0m\u001b[0mfile\u001b[0m\u001b[1;33m,\u001b[0m\u001b[0mword\u001b[0m\u001b[1;33m)\u001b[0m\u001b[1;33m\u001b[0m\u001b[1;33m\u001b[0m\u001b[0m\n\u001b[0m",
      "\u001b[1;32m<ipython-input-19-1b3fc805b086>\u001b[0m in \u001b[0;36mwordcount\u001b[1;34m(file, word)\u001b[0m\n\u001b[0;32m      1\u001b[0m \u001b[1;32mdef\u001b[0m \u001b[0mwordcount\u001b[0m\u001b[1;33m(\u001b[0m\u001b[0mfile\u001b[0m\u001b[1;33m,\u001b[0m\u001b[0mword\u001b[0m\u001b[1;33m)\u001b[0m\u001b[1;33m:\u001b[0m\u001b[1;33m\u001b[0m\u001b[1;33m\u001b[0m\u001b[0m\n\u001b[1;32m----> 2\u001b[1;33m     \u001b[1;32mwith\u001b[0m \u001b[0mopen\u001b[0m\u001b[1;33m(\u001b[0m\u001b[0mfile\u001b[0m\u001b[1;33m,\u001b[0m\u001b[1;34m'r'\u001b[0m\u001b[1;33m)\u001b[0m \u001b[1;32mas\u001b[0m \u001b[0mf\u001b[0m\u001b[1;33m:\u001b[0m\u001b[1;33m\u001b[0m\u001b[1;33m\u001b[0m\u001b[0m\n\u001b[0m\u001b[0;32m      3\u001b[0m         \u001b[1;32mif\u001b[0m \u001b[0mf\u001b[0m\u001b[1;33m.\u001b[0m\u001b[0mmode\u001b[0m \u001b[1;33m==\u001b[0m \u001b[1;34m'r'\u001b[0m\u001b[1;33m:\u001b[0m\u001b[1;33m\u001b[0m\u001b[1;33m\u001b[0m\u001b[0m\n\u001b[0;32m      4\u001b[0m             \u001b[0mx\u001b[0m \u001b[1;33m=\u001b[0m \u001b[0mf\u001b[0m\u001b[1;33m.\u001b[0m\u001b[0mread\u001b[0m\u001b[1;33m(\u001b[0m\u001b[1;33m)\u001b[0m\u001b[1;33m\u001b[0m\u001b[1;33m\u001b[0m\u001b[0m\n\u001b[0;32m      5\u001b[0m             \u001b[0mli\u001b[0m \u001b[1;33m=\u001b[0m \u001b[0mx\u001b[0m\u001b[1;33m.\u001b[0m\u001b[0msplit\u001b[0m\u001b[1;33m(\u001b[0m\u001b[1;33m)\u001b[0m\u001b[1;33m\u001b[0m\u001b[1;33m\u001b[0m\u001b[0m\n",
      "\u001b[1;31mFileNotFoundError\u001b[0m: [Errno 2] No such file or directory: 'firstfile'"
     ]
    }
   ],
   "source": [
    "def wordcount(file,word):\n",
    "    with open(file,'r') as f:\n",
    "        if f.mode == 'r':\n",
    "            x = f.read()\n",
    "            li = x.split()\n",
    "        cnt = li.count(word)\n",
    "        return cnt\n",
    "    file = input('enter the file name')\n",
    "word = input('enter the word')\n",
    "wordcount(file,word)"
   ]
  },
  {
   "cell_type": "code",
   "execution_count": 20,
   "metadata": {},
   "outputs": [
    {
     "data": {
      "text/plain": [
       "'C:\\\\Users\\\\sys21'"
      ]
     },
     "execution_count": 20,
     "metadata": {},
     "output_type": "execute_result"
    }
   ],
   "source": [
    "pwd\n"
   ]
  },
  {
   "cell_type": "code",
   "execution_count": 21,
   "metadata": {},
   "outputs": [
    {
     "name": "stdout",
     "output_type": "stream",
     "text": [
      "enter the file : FILE\n"
     ]
    },
    {
     "data": {
      "text/plain": [
       "140"
      ]
     },
     "execution_count": 21,
     "metadata": {},
     "output_type": "execute_result"
    }
   ],
   "source": [
    " def charcount(file):\n",
    "        with open(file,'r') as f:\n",
    "            if f.mode == 'r':\n",
    "                x = f.read()\n",
    "                li = list(x)\n",
    "        return len(li)\n",
    "file = input('enter the file : ')\n",
    "charcount(file)"
   ]
  },
  {
   "cell_type": "code",
   "execution_count": 24,
   "metadata": {},
   "outputs": [
    {
     "data": {
      "text/plain": [
       "1"
      ]
     },
     "execution_count": 24,
     "metadata": {},
     "output_type": "execute_result"
    }
   ],
   "source": [
    "def countofline(file):\n",
    "    with open(file,'r') as f:\n",
    "        if f.mode == 'r':\n",
    "            x = f.read()\n",
    "            li = x.split(\"\\n\")\n",
    "        return len(li)\n",
    "    file = input('enther the filename :')\n",
    "countofline(file)"
   ]
  },
  {
   "cell_type": "code",
   "execution_count": 25,
   "metadata": {
    "collapsed": true
   },
   "outputs": [
    {
     "name": "stdout",
     "output_type": "stream",
     "text": [
      " Volume in drive C has no label.\n",
      " Volume Serial Number is 5ED2-B11D\n",
      "\n",
      " Directory of C:\\Users\\sys21\n",
      "\n",
      "11-07-2019  12:30    <DIR>          .\n",
      "11-07-2019  12:30    <DIR>          ..\n",
      "09-07-2019  09:18    <DIR>          .anaconda\n",
      "04-07-2019  16:26             1,626 .bash_history\n",
      "11-07-2019  09:14    <DIR>          .conda\n",
      "11-07-2019  09:14                43 .condarc\n",
      "11-07-2019  09:15    <DIR>          .ipynb_checkpoints\n",
      "08-07-2019  17:31    <DIR>          .ipython\n",
      "08-07-2019  17:33    <DIR>          .jupyter\n",
      "26-06-2019  03:34    <DIR>          3D Objects\n",
      "08-07-2019  17:27    <DIR>          Anaconda3\n",
      "26-06-2019  03:34    <DIR>          Contacts\n",
      "06-07-2019  17:13    <DIR>          Desktop\n",
      "08-07-2019  17:06    <DIR>          Documents\n",
      "09-07-2019  15:52    <DIR>          Downloads\n",
      "26-06-2019  03:34    <DIR>          Favorites\n",
      "11-07-2019  09:30               140 FILE\n",
      "11-07-2019  10:03                16 file1.txt\n",
      "26-06-2019  03:34    <DIR>          Links\n",
      "26-06-2019  03:34    <DIR>          Music\n",
      "05-07-2019  09:10    <DIR>          OneDrive\n",
      "26-06-2019  03:34    <DIR>          Pictures\n",
      "04-07-2019  10:41    <DIR>          probsolvingprob\n",
      "26-06-2019  03:34    <DIR>          Saved Games\n",
      "26-06-2019  03:34    <DIR>          Searches\n",
      "04-07-2019  14:39    <DIR>          test2\n",
      "08-07-2019  17:31                72 Untitled.ipynb\n",
      "08-07-2019  17:36               555 Untitled1.ipynb\n",
      "09-07-2019  10:42             3,526 Untitled2.ipynb\n",
      "09-07-2019  15:44             4,934 Untitled3.ipynb\n",
      "10-07-2019  10:28             3,310 Untitled4.ipynb\n",
      "10-07-2019  14:38               555 Untitled5.ipynb\n",
      "10-07-2019  15:42             1,821 Untitled6.ipynb\n",
      "11-07-2019  12:30            10,121 Untitled7.ipynb\n",
      "03-07-2019  09:43    <DIR>          Videos\n",
      "              12 File(s)         26,719 bytes\n",
      "              23 Dir(s)  382,570,258,432 bytes free\n"
     ]
    }
   ],
   "source": [
    "ls"
   ]
  },
  {
   "cell_type": "code",
   "execution_count": 26,
   "metadata": {},
   "outputs": [
    {
     "ename": "NameError",
     "evalue": "name 'os' is not defined",
     "output_type": "error",
     "traceback": [
      "\u001b[1;31m---------------------------------------------------------------------------\u001b[0m",
      "\u001b[1;31mNameError\u001b[0m                                 Traceback (most recent call last)",
      "\u001b[1;32m<ipython-input-26-1d575c524536>\u001b[0m in \u001b[0;36m<module>\u001b[1;34m\u001b[0m\n\u001b[1;32m----> 1\u001b[1;33m \u001b[0mos\u001b[0m\u001b[1;33m.\u001b[0m\u001b[0mmkdir\u001b[0m\u001b[1;33m(\u001b[0m\u001b[1;34m'single directory'\u001b[0m\u001b[1;33m)\u001b[0m\u001b[1;33m\u001b[0m\u001b[1;33m\u001b[0m\u001b[0m\n\u001b[0m",
      "\u001b[1;31mNameError\u001b[0m: name 'os' is not defined"
     ]
    }
   ],
   "source": [
    "os.mkdir('single directory')"
   ]
  },
  {
   "cell_type": "code",
   "execution_count": 27,
   "metadata": {},
   "outputs": [
    {
     "name": "stdout",
     "output_type": "stream",
     "text": [
      " Volume in drive C has no label.\n",
      " Volume Serial Number is 5ED2-B11D\n",
      "\n",
      " Directory of C:\\Users\\sys21\n",
      "\n",
      "11-07-2019  14:43    <DIR>          .\n",
      "11-07-2019  14:43    <DIR>          ..\n",
      "09-07-2019  09:18    <DIR>          .anaconda\n",
      "04-07-2019  16:26             1,626 .bash_history\n",
      "11-07-2019  09:14    <DIR>          .conda\n",
      "11-07-2019  09:14                43 .condarc\n",
      "11-07-2019  09:15    <DIR>          .ipynb_checkpoints\n",
      "08-07-2019  17:31    <DIR>          .ipython\n",
      "08-07-2019  17:33    <DIR>          .jupyter\n",
      "26-06-2019  03:34    <DIR>          3D Objects\n",
      "08-07-2019  17:27    <DIR>          Anaconda3\n",
      "26-06-2019  03:34    <DIR>          Contacts\n",
      "06-07-2019  17:13    <DIR>          Desktop\n",
      "08-07-2019  17:06    <DIR>          Documents\n",
      "09-07-2019  15:52    <DIR>          Downloads\n",
      "26-06-2019  03:34    <DIR>          Favorites\n",
      "11-07-2019  09:30               140 FILE\n",
      "11-07-2019  10:03                16 file1.txt\n",
      "26-06-2019  03:34    <DIR>          Links\n",
      "26-06-2019  03:34    <DIR>          Music\n",
      "05-07-2019  09:10    <DIR>          OneDrive\n",
      "26-06-2019  03:34    <DIR>          Pictures\n",
      "04-07-2019  10:41    <DIR>          probsolvingprob\n",
      "26-06-2019  03:34    <DIR>          Saved Games\n",
      "26-06-2019  03:34    <DIR>          Searches\n",
      "04-07-2019  14:39    <DIR>          test2\n",
      "08-07-2019  17:31                72 Untitled.ipynb\n",
      "08-07-2019  17:36               555 Untitled1.ipynb\n",
      "09-07-2019  10:42             3,526 Untitled2.ipynb\n",
      "09-07-2019  15:44             4,934 Untitled3.ipynb\n",
      "10-07-2019  10:28             3,310 Untitled4.ipynb\n",
      "10-07-2019  14:38               555 Untitled5.ipynb\n",
      "10-07-2019  15:42             1,821 Untitled6.ipynb\n",
      "11-07-2019  14:43            12,669 Untitled7.ipynb\n",
      "03-07-2019  09:43    <DIR>          Videos\n",
      "              12 File(s)         29,267 bytes\n",
      "              23 Dir(s)  382,516,203,520 bytes free\n"
     ]
    }
   ],
   "source": [
    "ls"
   ]
  },
  {
   "cell_type": "code",
   "execution_count": 31,
   "metadata": {},
   "outputs": [
    {
     "ename": "NameError",
     "evalue": "name 'mkdir' is not defined",
     "output_type": "error",
     "traceback": [
      "\u001b[1;31m---------------------------------------------------------------------------\u001b[0m",
      "\u001b[1;31mNameError\u001b[0m                                 Traceback (most recent call last)",
      "\u001b[1;32m<ipython-input-31-d1024515207a>\u001b[0m in \u001b[0;36m<module>\u001b[1;34m\u001b[0m\n\u001b[0;32m      1\u001b[0m \u001b[1;32mimport\u001b[0m \u001b[0mpathlib\u001b[0m\u001b[1;33m\u001b[0m\u001b[1;33m\u001b[0m\u001b[0m\n\u001b[0;32m      2\u001b[0m \u001b[0mp\u001b[0m \u001b[1;33m=\u001b[0m \u001b[0mpathlib\u001b[0m\u001b[1;33m.\u001b[0m\u001b[0mPath\u001b[0m\u001b[1;33m(\u001b[0m\u001b[1;34m'testfolder'\u001b[0m\u001b[1;33m)\u001b[0m\u001b[1;33m\u001b[0m\u001b[1;33m\u001b[0m\u001b[0m\n\u001b[1;32m----> 3\u001b[1;33m \u001b[0mp\u001b[0m \u001b[1;33m=\u001b[0m \u001b[0mmkdir\u001b[0m\u001b[1;33m(\u001b[0m\u001b[1;33m)\u001b[0m\u001b[1;33m\u001b[0m\u001b[1;33m\u001b[0m\u001b[0m\n\u001b[0m",
      "\u001b[1;31mNameError\u001b[0m: name 'mkdir' is not defined"
     ]
    }
   ],
   "source": [
    " import pathlib\n",
    " p = pathlib.Path('testfolder')\n",
    " p = mkdir()"
   ]
  },
  {
   "cell_type": "code",
   "execution_count": null,
   "metadata": {},
   "outputs": [],
   "source": []
  }
 ],
 "metadata": {
  "kernelspec": {
   "display_name": "Python 3",
   "language": "python",
   "name": "python3"
  },
  "language_info": {
   "codemirror_mode": {
    "name": "ipython",
    "version": 3
   },
   "file_extension": ".py",
   "mimetype": "text/x-python",
   "name": "python",
   "nbconvert_exporter": "python",
   "pygments_lexer": "ipython3",
   "version": "3.7.3"
  }
 },
 "nbformat": 4,
 "nbformat_minor": 2
}
