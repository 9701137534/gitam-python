{
 "cells": [
  {
   "cell_type": "code",
   "execution_count": 1,
   "metadata": {},
   "outputs": [
    {
     "data": {
      "text/plain": [
       "tuple"
      ]
     },
     "execution_count": 1,
     "metadata": {},
     "output_type": "execute_result"
    }
   ],
   "source": [
    "t1 = (1,2,3,4,5)\n",
    "t1\n",
    "type(t1)"
   ]
  },
  {
   "cell_type": "code",
   "execution_count": 7,
   "metadata": {},
   "outputs": [
    {
     "name": "stdout",
     "output_type": "stream",
     "text": [
      "contcat is details are added\n",
      "contcat is details are added\n",
      "contact details already exists\n"
     ]
    }
   ],
   "source": [
    " # add contact\n",
    "contacts = {}\n",
    "def addcontact(name,phone):\n",
    "        if name not in contacts:\n",
    "            contacts[name] = phone\n",
    "            print(\"contcat is details are added\")\n",
    "        else:\n",
    "            print(\"contact details already exists\")\n",
    "        return\n",
    "addcontact('anil','9876543210')\n",
    "addcontact('naveen', 9966552211)\n",
    "addcontact('anil', '9876543210')"
   ]
  },
  {
   "cell_type": "code",
   "execution_count": 8,
   "metadata": {},
   "outputs": [
    {
     "name": "stdout",
     "output_type": "stream",
     "text": [
      "anil  : 9876543210\n",
      "harsha does not exists\n",
      "naveen  : 9966552211\n"
     ]
    }
   ],
   "source": [
    "def searchcontact(name):\n",
    "    if name in contacts:\n",
    "        print(name, \" :\" , contacts[name])\n",
    "    else:\n",
    "        print(\"%s does not exists\" % name) \n",
    "    return\n",
    "searchcontact('anil')\n",
    "searchcontact('harsha')\n",
    "searchcontact('naveen')\n"
   ]
  },
  {
   "cell_type": "code",
   "execution_count": 10,
   "metadata": {},
   "outputs": [
    {
     "name": "stdout",
     "output_type": "stream",
     "text": [
      "2 contacts added successfully\n"
     ]
    }
   ],
   "source": [
    "def importcontact(new):\n",
    "    contacts.update(new)\n",
    "    print(len(new.keys()), \"contacts added successfully\")\n",
    "    return\n",
    "new = {'dinesh' : 654280846, 'ajay' : 9977442288}\n",
    "importcontact(new)\n",
    "          "
   ]
  },
  {
   "cell_type": "code",
   "execution_count": 12,
   "metadata": {},
   "outputs": [
    {
     "name": "stdout",
     "output_type": "stream",
     "text": [
      "ajay deleted successfully\n"
     ]
    }
   ],
   "source": [
    "def delcontact(name):\n",
    "    if name in contacts:\n",
    "        del contacts[name]\n",
    "        print(name, \"deleted successfully\")\n",
    "    else:\n",
    "        print(name, \"not exists\")\n",
    "    return\n",
    "delcontact('ajay')"
   ]
  },
  {
   "cell_type": "code",
   "execution_count": null,
   "metadata": {},
   "outputs": [],
   "source": []
  }
 ],
 "metadata": {
  "kernelspec": {
   "display_name": "Python 3",
   "language": "python",
   "name": "python3"
  },
  "language_info": {
   "codemirror_mode": {
    "name": "ipython",
    "version": 3
   },
   "file_extension": ".py",
   "mimetype": "text/x-python",
   "name": "python",
   "nbconvert_exporter": "python",
   "pygments_lexer": "ipython3",
   "version": "3.7.3"
  }
 },
 "nbformat": 4,
 "nbformat_minor": 2
}
